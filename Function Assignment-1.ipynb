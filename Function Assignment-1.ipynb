{
 "cells": [
  {
   "cell_type": "code",
   "execution_count": 10,
   "id": "3acfa0ef-da55-4b71-9a54-b757ac87b58d",
   "metadata": {},
   "outputs": [
    {
     "name": "stdout",
     "output_type": "stream",
     "text": [
      "Sub-fields in AI are:\n",
      "Machine Learning\n",
      "Neural Networks\n",
      "Vision\n",
      "Robotics\n",
      "Speech Processing\n",
      "Natural Language Processing\n"
     ]
    }
   ],
   "source": [
    "# Create a class and function, and list out the items in the list\n",
    "\n",
    "class SubfieldsInAI():\n",
    "    def subList():\n",
    "        aiSubList = [\"Machine Learning\", \"Neural Networks\", \"Vision\", \"Robotics\", \"Speech Processing\", \"Natural Language Processing\"]\n",
    "        print(\"Sub-fields in AI are:\")\n",
    "        for sub in aiSubList:\n",
    "            print(sub)\n",
    "\n",
    "SubfieldsInAI.subList()"
   ]
  },
  {
   "cell_type": "code",
   "execution_count": 49,
   "id": "6015d19d-1327-4711-af2e-1368606155fe",
   "metadata": {},
   "outputs": [
    {
     "name": "stdin",
     "output_type": "stream",
     "text": [
      "Enter any number: 7\n"
     ]
    },
    {
     "name": "stdout",
     "output_type": "stream",
     "text": [
      "The given number 7 Odd\n"
     ]
    }
   ],
   "source": [
    "# Create a function that checks whether the given number is Odd or Even\n",
    "\n",
    "class OddEven():\n",
    "    def oddEven(number):\n",
    "        if (number%2 == 0):\n",
    "            print(\"The given number\", number, \"Even\")\n",
    "        else:\n",
    "            print(\"The given number\", number, \"Odd\")\n",
    "\n",
    "num = int(input(\"Enter any number:\"))\n",
    "OddEven.oddEven(num)"
   ]
  },
  {
   "cell_type": "code",
   "execution_count": 38,
   "id": "8ab5c196-63da-4d1b-87de-f8be8809b37e",
   "metadata": {},
   "outputs": [
    {
     "name": "stdin",
     "output_type": "stream",
     "text": [
      "Enter your gender male\n",
      "Enter your age 27\n"
     ]
    },
    {
     "name": "stdout",
     "output_type": "stream",
     "text": [
      "Eligible\n"
     ]
    }
   ],
   "source": [
    "# Create a function that tells elegibility of marriage for male and female according to their age limit like 21 for male and 18 for female\n",
    "\n",
    "class ElegiblityForMarriage():\n",
    "    def elegible(gender, age):\n",
    "        if (((gender == 'male') and (age >= 21)) or ((gender == 'female') and (age >= 18))):\n",
    "            print('Eligible')\n",
    "        else:\n",
    "            print('Not Eligible')\n",
    "\n",
    "gender = input(\"Enter your gender\")\n",
    "age = int(input(\"Enter your age\"))\n",
    "ElegiblityForMarriage.elegible(gender,age)"
   ]
  },
  {
   "cell_type": "code",
   "execution_count": 38,
   "id": "e260958a-283d-43d6-9099-4b8acd9a2ae6",
   "metadata": {},
   "outputs": [
    {
     "name": "stdin",
     "output_type": "stream",
     "text": [
      "Enter the mark of subject 1:  88\n",
      "Enter the mark of subject 2:  56\n",
      "Enter the mark of subject 3:  91\n",
      "Enter the mark of subject 4:  97\n",
      "Enter the mark of subject 5:  93\n"
     ]
    },
    {
     "name": "stdout",
     "output_type": "stream",
     "text": [
      "Subject 1 : 88\n",
      "Subject 2 : 56\n",
      "Subject 3 : 91\n",
      "Subject 4 : 97\n",
      "Subject 5 : 93\n",
      "Total: 425\n",
      "Percentage: 85.0\n"
     ]
    }
   ],
   "source": [
    "# calculate the percentage of your 10th mark\n",
    "class FindPercent():\n",
    "    def percentage(marks):\n",
    "        for mr in marks:\n",
    "            numberSum = sum(marks)\n",
    "            avg = numberSum/len(marks)\n",
    "        print(\"Total:\", numberSum)\n",
    "        print(\"Percentage:\", avg)\n",
    "            \n",
    "markList = []\n",
    "for i in range(5):\n",
    "    mark = int(input(f\"Enter the mark of subject {i + 1}: \"))\n",
    "    markList.append(mark)\n",
    "    \n",
    "for i in range(5):\n",
    "    print(\"Subject\",i+1,\":\", markList[i])\n",
    "FindPercent.percentage(markList)"
   ]
  },
  {
   "cell_type": "code",
   "execution_count": 44,
   "id": "d478efce-7477-4fce-8e60-0082750471c0",
   "metadata": {},
   "outputs": [
    {
     "name": "stdin",
     "output_type": "stream",
     "text": [
      "Enter the Height: 32\n",
      "Enter the Breadth: 34\n"
     ]
    },
    {
     "name": "stdout",
     "output_type": "stream",
     "text": [
      "Area formula: (Height*Breadth)/2\n",
      "Area of Triangle: 544.0\n"
     ]
    },
    {
     "name": "stdin",
     "output_type": "stream",
     "text": [
      "Enter the Height1: 2\n",
      "Enter the Height2: 4\n",
      "Enter the Breadth: 4\n"
     ]
    },
    {
     "name": "stdout",
     "output_type": "stream",
     "text": [
      "Perimeter formula: Height1+Height2+Breadth\n",
      "Perimeter of Triangle: 10\n"
     ]
    }
   ],
   "source": [
    "#print area and perimeter of triangle using class and functions\n",
    "class Triangle():\n",
    "    def triangle():\n",
    "        height = int(input(\"Enter the Height:\"))\n",
    "        breadth = int(input(\"Enter the Breadth:\"))\n",
    "        print('Area formula: (Height*Breadth)/2')\n",
    "        area = (height*breadth)/2\n",
    "        print('Area of Triangle:', area)\n",
    "\n",
    "        height1 = int(input(\"Enter the Height1:\"))\n",
    "        height2 = int(input(\"Enter the Height2:\"))\n",
    "        breadth = int(input(\"Enter the Breadth:\"))\n",
    "        print('Perimeter formula: Height1+Height2+Breadth')\n",
    "        perimeter = height1 + height2 + breadth\n",
    "        print('Perimeter of Triangle:', perimeter)\n",
    "        \n",
    "\n",
    "Triangle.triangle()"
   ]
  },
  {
   "cell_type": "code",
   "execution_count": null,
   "id": "f7ee1d6f-1c38-4d53-a495-ac129d2d4233",
   "metadata": {},
   "outputs": [],
   "source": []
  }
 ],
 "metadata": {
  "kernelspec": {
   "display_name": "Python 3 (ipykernel)",
   "language": "python",
   "name": "python3"
  },
  "language_info": {
   "codemirror_mode": {
    "name": "ipython",
    "version": 3
   },
   "file_extension": ".py",
   "mimetype": "text/x-python",
   "name": "python",
   "nbconvert_exporter": "python",
   "pygments_lexer": "ipython3",
   "version": "3.12.7"
  }
 },
 "nbformat": 4,
 "nbformat_minor": 5
}
