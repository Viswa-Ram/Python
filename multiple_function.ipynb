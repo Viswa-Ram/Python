{
 "cells": [
  {
   "cell_type": "code",
   "execution_count": 1,
   "id": "dd0d61b6-7161-42af-ad5a-51efaa2b871e",
   "metadata": {},
   "outputs": [
    {
     "name": "stdin",
     "output_type": "stream",
     "text": [
      "Enter any number: 8\n"
     ]
    },
    {
     "name": "stdout",
     "output_type": "stream",
     "text": [
      "The given number 8 Even\n"
     ]
    }
   ],
   "source": [
    "from multipleFunctions import multipleFunctions\n",
    "\n",
    "multipleFunctions.oddEven()"
   ]
  },
  {
   "cell_type": "code",
   "execution_count": 6,
   "id": "31844d13-37aa-4fed-ac58-7e1a5224bbc5",
   "metadata": {},
   "outputs": [
    {
     "name": "stdin",
     "output_type": "stream",
     "text": [
      "Enter your gender male\n",
      "Enter your age 34\n"
     ]
    },
    {
     "name": "stdout",
     "output_type": "stream",
     "text": [
      "Eligible\n"
     ]
    }
   ],
   "source": [
    "multipleFunctions.elegible()"
   ]
  },
  {
   "cell_type": "code",
   "execution_count": 8,
   "id": "7accbaf5-761c-4ab6-abfb-2e27786fbff3",
   "metadata": {},
   "outputs": [
    {
     "name": "stdin",
     "output_type": "stream",
     "text": [
      "Enter the Height: 32\n",
      "Enter the Breadth: 34\n"
     ]
    },
    {
     "name": "stdout",
     "output_type": "stream",
     "text": [
      "Area formula: (Height*Breadth)/2\n",
      "Area of Triangle: 544.0\n"
     ]
    },
    {
     "name": "stdin",
     "output_type": "stream",
     "text": [
      "Enter the Height1: 5\n",
      "Enter the Height2: 4\n",
      "Enter the Breadth: 7\n"
     ]
    },
    {
     "name": "stdout",
     "output_type": "stream",
     "text": [
      "Perimeter formula: Height1+Height2+Breadth\n",
      "Perimeter of Triangle: 16\n"
     ]
    }
   ],
   "source": [
    "multipleFunctions.triangle()"
   ]
  },
  {
   "cell_type": "code",
   "execution_count": 7,
   "id": "c846b63d-70df-4bfd-b7f0-b7eb47ac0d15",
   "metadata": {},
   "outputs": [
    {
     "name": "stdin",
     "output_type": "stream",
     "text": [
      "Enter the mark of subject 1:  88\n",
      "Enter the mark of subject 2:  91\n",
      "Enter the mark of subject 3:  56\n",
      "Enter the mark of subject 4:  97\n",
      "Enter the mark of subject 5:  93\n"
     ]
    },
    {
     "name": "stdout",
     "output_type": "stream",
     "text": [
      "Total: 425\n",
      "Percentage: 85.0\n"
     ]
    }
   ],
   "source": [
    "multipleFunctions.markPercentage()"
   ]
  },
  {
   "cell_type": "code",
   "execution_count": 3,
   "id": "230dee54-d92e-4c48-b8fd-44eccdea53df",
   "metadata": {},
   "outputs": [
    {
     "name": "stdout",
     "output_type": "stream",
     "text": [
      "Sub-fields in AI are:\n",
      "Machine Learning\n",
      "Neural Networks\n",
      "Vision\n",
      "Robotics\n",
      "Speech Processing\n",
      "Natural Language Processing\n"
     ]
    }
   ],
   "source": [
    "multipleFunctions.aiSubList()"
   ]
  }
 ],
 "metadata": {
  "kernelspec": {
   "display_name": "Python 3 (ipykernel)",
   "language": "python",
   "name": "python3"
  },
  "language_info": {
   "codemirror_mode": {
    "name": "ipython",
    "version": 3
   },
   "file_extension": ".py",
   "mimetype": "text/x-python",
   "name": "python",
   "nbconvert_exporter": "python",
   "pygments_lexer": "ipython3",
   "version": "3.12.7"
  }
 },
 "nbformat": 4,
 "nbformat_minor": 5
}
