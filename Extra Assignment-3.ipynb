{
 "cells": [
  {
   "cell_type": "code",
   "execution_count": 10,
   "id": "e2f3a3a9-e92c-4c22-9a42-27a656d85ace",
   "metadata": {},
   "outputs": [
    {
     "name": "stdin",
     "output_type": "stream",
     "text": [
      "Value: 10\n"
     ]
    },
    {
     "name": "stdout",
     "output_type": "stream",
     "text": [
      "Correct\n"
     ]
    }
   ],
   "source": [
    "# print 'CORRECT' if i == 10\n",
    "i = int(input(\"Value:\"))\n",
    "if i == 10:\n",
    "    print(\"Correct\")\n",
    "else:\n",
    "    print(\"In-Correct\")"
   ]
  },
  {
   "cell_type": "code",
   "execution_count": 18,
   "id": "974bd2b6-be2d-486e-9abb-908d75d97d18",
   "metadata": {},
   "outputs": [
    {
     "name": "stdin",
     "output_type": "stream",
     "text": [
      "Enter your password: Hope@123\n"
     ]
    },
    {
     "name": "stdout",
     "output_type": "stream",
     "text": [
      "Your Password is Correct\n"
     ]
    }
   ],
   "source": [
    "# Check the password, using if and else\n",
    "password = input(\"Enter your password:\")\n",
    "if password == \"Hope@123\":\n",
    "    print(\"Your Password is Correct\")\n",
    "else:\n",
    "    print(\"Your Password is In-Correct\")"
   ]
  },
  {
   "cell_type": "code",
   "execution_count": 24,
   "id": "290de453-0b4f-41a9-9e2c-e9f8e0a8e258",
   "metadata": {},
   "outputs": [
    {
     "name": "stdin",
     "output_type": "stream",
     "text": [
      "Enter your age 45\n"
     ]
    },
    {
     "name": "stdout",
     "output_type": "stream",
     "text": [
      "Age 45 is Citizen\n"
     ]
    }
   ],
   "source": [
    "# Catagory the people by their age like children, adult, citizen, senior citizen...\n",
    "age = int(input(\"Enter your age\"))\n",
    "if age<18:\n",
    "    print('Age',age,'is Childeren')\n",
    "elif age<35:\n",
    "    print('Age',age,'is Adult')\n",
    "elif age<59:\n",
    "    print('Age',age,'is Citizen')\n",
    "else:\n",
    "    print('Age',age,'is Senior Citizen')"
   ]
  },
  {
   "cell_type": "code",
   "execution_count": 30,
   "id": "bc0484eb-9239-430a-84dd-349ebfd1f60c",
   "metadata": {},
   "outputs": [
    {
     "name": "stdin",
     "output_type": "stream",
     "text": [
      "Enter any number 12\n"
     ]
    },
    {
     "name": "stdout",
     "output_type": "stream",
     "text": [
      "Entered number is Passitive\n"
     ]
    }
   ],
   "source": [
    "# Find whether given number is positive or negative\n",
    "number = int(input(\"Enter any number\"))\n",
    "if number > 0:\n",
    "    print(\"Entered number is Passitive\")\n",
    "else:\n",
    "    print(\"Entered number is Negative\")"
   ]
  },
  {
   "cell_type": "code",
   "execution_count": 32,
   "id": "e7959872-f783-42ed-887d-fe70f97f8a34",
   "metadata": {},
   "outputs": [],
   "source": [
    "# Check whether the given number is divisible by 5\n"
   ]
  },
  {
   "cell_type": "code",
   "execution_count": 38,
   "id": "3cc4a4f1-3c57-4c1e-a749-31bf97a40970",
   "metadata": {},
   "outputs": [
    {
     "name": "stdin",
     "output_type": "stream",
     "text": [
      "Enter any number 25\n"
     ]
    },
    {
     "name": "stdout",
     "output_type": "stream",
     "text": [
      "Entered number is divisible by 5\n"
     ]
    }
   ],
   "source": [
    "number = int(input(\"Enter any number\"))\n",
    "if number%5 == 0:\n",
    "    print(\"Entered number is divisible by 5\")\n",
    "else:\n",
    "    print(\"Entered number is Not divisible by 5\")"
   ]
  }
 ],
 "metadata": {
  "kernelspec": {
   "display_name": "Python 3 (ipykernel)",
   "language": "python",
   "name": "python3"
  },
  "language_info": {
   "codemirror_mode": {
    "name": "ipython",
    "version": 3
   },
   "file_extension": ".py",
   "mimetype": "text/x-python",
   "name": "python",
   "nbconvert_exporter": "python",
   "pygments_lexer": "ipython3",
   "version": "3.12.7"
  }
 },
 "nbformat": 4,
 "nbformat_minor": 5
}
