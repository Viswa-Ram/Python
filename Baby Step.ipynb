{
 "cells": [
  {
   "cell_type": "code",
   "execution_count": 4,
   "id": "85a2550d-cfda-4cd1-b43e-a64bad5baab6",
   "metadata": {},
   "outputs": [
    {
     "name": "stdout",
     "output_type": "stream",
     "text": [
      "Welcome to Assignement-1\n"
     ]
    }
   ],
   "source": [
    "print(\"Welcome to Assignement-1\")"
   ]
  },
  {
   "cell_type": "code",
   "execution_count": 16,
   "id": "f09f5b09-2d44-4153-8fd4-62111c4a0105",
   "metadata": {},
   "outputs": [
    {
     "name": "stdout",
     "output_type": "stream",
     "text": [
      "Num1= 10\n",
      "Num2= 30\n",
      "Add= 40\n"
     ]
    }
   ],
   "source": [
    "num1=10\n",
    "num2=30\n",
    "print('Num1=',num1)\n",
    "print('Num2=',num2)\n",
    "print('Add=',num1+num2)"
   ]
  },
  {
   "cell_type": "code",
   "execution_count": 30,
   "id": "a096f62d-406f-44c0-b688-5ab329b7e5ec",
   "metadata": {},
   "outputs": [
    {
     "name": "stdin",
     "output_type": "stream",
     "text": [
      "Enter your BMI: 40\n"
     ]
    },
    {
     "name": "stdout",
     "output_type": "stream",
     "text": [
      "Obese - Class 3\n"
     ]
    }
   ],
   "source": [
    "bmi=float(input(\"Enter your BMI:\"))\n",
    "if (bmi<16.0):\n",
    "    print('Under Weight - Servere thinness')\n",
    "elif (bmi<=16.9):\n",
    "    print('Under Weight - Moderate thinness')\n",
    "elif(bmi<=18.4):\n",
    "    print('Under Weight - Mild thinness')\n",
    "elif(bmi<=24.9):\n",
    "    print('Normal range')\n",
    "elif(bmi<=29.9):\n",
    "    print('Overwight - Pre-obese')\n",
    "elif(bmi<=34.9):\n",
    "    print('Obese - Class 1')\n",
    "elif(bmi<=39.9):\n",
    "    print('Obese - Class 2')\n",
    "else:\n",
    "    print('Obese - Class 3')"
   ]
  }
 ],
 "metadata": {
  "kernelspec": {
   "display_name": "Python 3 (ipykernel)",
   "language": "python",
   "name": "python3"
  },
  "language_info": {
   "codemirror_mode": {
    "name": "ipython",
    "version": 3
   },
   "file_extension": ".py",
   "mimetype": "text/x-python",
   "name": "python",
   "nbconvert_exporter": "python",
   "pygments_lexer": "ipython3",
   "version": "3.12.7"
  }
 },
 "nbformat": 4,
 "nbformat_minor": 5
}
