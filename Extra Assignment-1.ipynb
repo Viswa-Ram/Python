{
 "cells": [
  {
   "cell_type": "code",
   "execution_count": 3,
   "id": "677136f5-b7f5-4de2-ab28-9fe786c315aa",
   "metadata": {},
   "outputs": [
    {
     "name": "stdout",
     "output_type": "stream",
     "text": [
      "HOPE AI\n"
     ]
    }
   ],
   "source": [
    "print(\"HOPE AI\")"
   ]
  },
  {
   "cell_type": "code",
   "execution_count": 17,
   "id": "c13968f7-65a7-4f7a-b44d-00f99746f955",
   "metadata": {},
   "outputs": [
    {
     "name": "stdin",
     "output_type": "stream",
     "text": [
      "Enter your institute name? : HOPE AI\n"
     ]
    }
   ],
   "source": [
    "instName = input(\"Enter your institute name? :\")"
   ]
  },
  {
   "cell_type": "code",
   "execution_count": 19,
   "id": "78c63359-62bb-4d58-9d52-1cad5572880a",
   "metadata": {},
   "outputs": [
    {
     "name": "stdin",
     "output_type": "stream",
     "text": [
      "Enter your Name? : Raj\n",
      "Enter your Age? : 15\n",
      "Enter your School Name? : Guru School\n",
      "Enter your Degree? : B.E\n"
     ]
    }
   ],
   "source": [
    "name = input(\"Enter your Name? :\")\n",
    "age = int(input(\"Enter your Age? :\"))\n",
    "schoolName = input(\"Enter your School Name? :\")\n",
    "degree = input(\"Enter your Degree? :\")"
   ]
  },
  {
   "cell_type": "code",
   "execution_count": 23,
   "id": "a51ba71c-f70a-4e34-a448-ff05a031a1d7",
   "metadata": {},
   "outputs": [
    {
     "name": "stdout",
     "output_type": "stream",
     "text": [
      "a= 43\n",
      "b= 34\n",
      "add= 77\n",
      "Sub= 9\n"
     ]
    }
   ],
   "source": [
    "a=43\n",
    "b=34\n",
    "print(\"a=\",a)\n",
    "print(\"b=\",b)\n",
    "print(\"add=\",a+b)\n",
    "print(\"Sub=\",a-b)"
   ]
  },
  {
   "cell_type": "code",
   "execution_count": 29,
   "id": "0b5d786d-c929-4aa3-90df-af4853aba585",
   "metadata": {},
   "outputs": [
    {
     "name": "stdout",
     "output_type": "stream",
     "text": [
      "a= 63\n",
      "b= 97\n",
      "Mul= 6111\n"
     ]
    }
   ],
   "source": [
    "a=63\n",
    "b=97\n",
    "print(\"a=\",a)\n",
    "print(\"b=\",b)\n",
    "print(\"Mul=\",a*b)"
   ]
  },
  {
   "cell_type": "code",
   "execution_count": 41,
   "id": "36a67c1e-4a48-4c8d-b21f-847324eed87b",
   "metadata": {},
   "outputs": [
    {
     "name": "stdout",
     "output_type": "stream",
     "text": [
      "a= 76\n",
      "b= 31\n",
      "Float Div= 2.4516129032258065\n",
      "Floor Div= 2\n",
      "Madulo= 14\n"
     ]
    }
   ],
   "source": [
    "a=76\n",
    "b=31\n",
    "print(\"a=\",a)\n",
    "print(\"b=\",b)\n",
    "print(\"Float Div=\",a/b)\n",
    "print(\"Floor Div=\",a//b)\n",
    "print(\"Madulo=\",a%b)"
   ]
  },
  {
   "cell_type": "code",
   "execution_count": 47,
   "id": "59dbadb0-e153-4d34-957e-d20a7624896e",
   "metadata": {},
   "outputs": [
    {
     "name": "stdout",
     "output_type": "stream",
     "text": [
      "a= 4\n",
      "b= 4\n",
      "Power= 256\n"
     ]
    }
   ],
   "source": [
    "a= 4\n",
    "b= 4\n",
    "print(\"a=\",a)\n",
    "print(\"b=\",b)\n",
    "print(\"Power=\",a**b)"
   ]
  }
 ],
 "metadata": {
  "kernelspec": {
   "display_name": "Python 3 (ipykernel)",
   "language": "python",
   "name": "python3"
  },
  "language_info": {
   "codemirror_mode": {
    "name": "ipython",
    "version": 3
   },
   "file_extension": ".py",
   "mimetype": "text/x-python",
   "name": "python",
   "nbconvert_exporter": "python",
   "pygments_lexer": "ipython3",
   "version": "3.12.7"
  }
 },
 "nbformat": 4,
 "nbformat_minor": 5
}
